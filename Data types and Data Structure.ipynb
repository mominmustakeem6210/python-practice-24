{
 "cells": [
  {
   "cell_type": "code",
   "execution_count": null,
   "id": "c086479e",
   "metadata": {},
   "outputs": [],
   "source": [
    "int"
   ]
  },
  {
   "cell_type": "code",
   "execution_count": 1,
   "id": "2666ebd6",
   "metadata": {},
   "outputs": [],
   "source": [
    "emp_id = 101"
   ]
  },
  {
   "cell_type": "code",
   "execution_count": 2,
   "id": "4193209c",
   "metadata": {},
   "outputs": [
    {
     "data": {
      "text/plain": [
       "int"
      ]
     },
     "execution_count": 2,
     "metadata": {},
     "output_type": "execute_result"
    }
   ],
   "source": [
    "type(emp_id)"
   ]
  },
  {
   "cell_type": "code",
   "execution_count": null,
   "id": "0a52ddc0",
   "metadata": {},
   "outputs": [],
   "source": [
    "type() --> to identify data type"
   ]
  },
  {
   "cell_type": "code",
   "execution_count": null,
   "id": "179f8f9e",
   "metadata": {},
   "outputs": [],
   "source": [
    "float"
   ]
  },
  {
   "cell_type": "code",
   "execution_count": 3,
   "id": "82dbb632",
   "metadata": {},
   "outputs": [],
   "source": [
    "age = 45.6"
   ]
  },
  {
   "cell_type": "code",
   "execution_count": 4,
   "id": "431a44c9",
   "metadata": {},
   "outputs": [
    {
     "data": {
      "text/plain": [
       "float"
      ]
     },
     "execution_count": 4,
     "metadata": {},
     "output_type": "execute_result"
    }
   ],
   "source": [
    "type(age)"
   ]
  },
  {
   "cell_type": "code",
   "execution_count": 5,
   "id": "9aaef790",
   "metadata": {},
   "outputs": [
    {
     "data": {
      "text/plain": [
       "str"
      ]
     },
     "execution_count": 5,
     "metadata": {},
     "output_type": "execute_result"
    }
   ],
   "source": [
    "str"
   ]
  },
  {
   "cell_type": "code",
   "execution_count": 6,
   "id": "787b511c",
   "metadata": {},
   "outputs": [],
   "source": [
    "gen = 'F'"
   ]
  },
  {
   "cell_type": "code",
   "execution_count": 7,
   "id": "99eaad93",
   "metadata": {},
   "outputs": [
    {
     "data": {
      "text/plain": [
       "str"
      ]
     },
     "execution_count": 7,
     "metadata": {},
     "output_type": "execute_result"
    }
   ],
   "source": [
    "type(gen)"
   ]
  },
  {
   "cell_type": "code",
   "execution_count": 8,
   "id": "ed5fe0d9",
   "metadata": {},
   "outputs": [],
   "source": [
    "name = 'Keshav'"
   ]
  },
  {
   "cell_type": "code",
   "execution_count": 9,
   "id": "070f67e5",
   "metadata": {},
   "outputs": [
    {
     "data": {
      "text/plain": [
       "'Keshav'"
      ]
     },
     "execution_count": 9,
     "metadata": {},
     "output_type": "execute_result"
    }
   ],
   "source": [
    "name"
   ]
  },
  {
   "cell_type": "code",
   "execution_count": 10,
   "id": "89c8a7b1",
   "metadata": {},
   "outputs": [
    {
     "data": {
      "text/plain": [
       "str"
      ]
     },
     "execution_count": 10,
     "metadata": {},
     "output_type": "execute_result"
    }
   ],
   "source": [
    "type(name)"
   ]
  },
  {
   "cell_type": "code",
   "execution_count": 11,
   "id": "6c40ab6d",
   "metadata": {},
   "outputs": [],
   "source": [
    "email_id = 'test@gmail.com'"
   ]
  },
  {
   "cell_type": "code",
   "execution_count": 13,
   "id": "d8b89a31",
   "metadata": {},
   "outputs": [
    {
     "data": {
      "text/plain": [
       "str"
      ]
     },
     "execution_count": 13,
     "metadata": {},
     "output_type": "execute_result"
    }
   ],
   "source": [
    "type(email_id)"
   ]
  },
  {
   "cell_type": "code",
   "execution_count": 14,
   "id": "5075554a",
   "metadata": {},
   "outputs": [],
   "source": [
    "data = 45+90j"
   ]
  },
  {
   "cell_type": "code",
   "execution_count": 15,
   "id": "4d77d308",
   "metadata": {},
   "outputs": [
    {
     "data": {
      "text/plain": [
       "complex"
      ]
     },
     "execution_count": 15,
     "metadata": {},
     "output_type": "execute_result"
    }
   ],
   "source": [
    "type(data)"
   ]
  },
  {
   "cell_type": "code",
   "execution_count": null,
   "id": "34da0da0",
   "metadata": {},
   "outputs": [],
   "source": [
    "use --> SVM --> "
   ]
  },
  {
   "cell_type": "code",
   "execution_count": null,
   "id": "81a8c788",
   "metadata": {},
   "outputs": [],
   "source": [
    "None -- > empty"
   ]
  },
  {
   "cell_type": "code",
   "execution_count": 16,
   "id": "77d4e6fe",
   "metadata": {},
   "outputs": [],
   "source": [
    "emp_name =  None"
   ]
  },
  {
   "cell_type": "code",
   "execution_count": 17,
   "id": "e3569327",
   "metadata": {},
   "outputs": [
    {
     "data": {
      "text/plain": [
       "NoneType"
      ]
     },
     "execution_count": 17,
     "metadata": {},
     "output_type": "execute_result"
    }
   ],
   "source": [
    "type(emp_name)"
   ]
  },
  {
   "cell_type": "code",
   "execution_count": null,
   "id": "bb774492",
   "metadata": {},
   "outputs": [],
   "source": [
    "bool -- >\n",
    "True/False"
   ]
  },
  {
   "cell_type": "code",
   "execution_count": null,
   "id": "7dd51814",
   "metadata": {},
   "outputs": [],
   "source": [
    "True /Yes --> 1\n",
    "False /No --> 0"
   ]
  },
  {
   "cell_type": "code",
   "execution_count": 18,
   "id": "2e7bb2da",
   "metadata": {},
   "outputs": [
    {
     "data": {
      "text/plain": [
       "2"
      ]
     },
     "execution_count": 18,
     "metadata": {},
     "output_type": "execute_result"
    }
   ],
   "source": [
    "True+True"
   ]
  },
  {
   "cell_type": "code",
   "execution_count": 19,
   "id": "f0d58c54",
   "metadata": {},
   "outputs": [],
   "source": [
    "a= '17/04/2023'"
   ]
  },
  {
   "cell_type": "code",
   "execution_count": 20,
   "id": "30a883e1",
   "metadata": {},
   "outputs": [
    {
     "data": {
      "text/plain": [
       "str"
      ]
     },
     "execution_count": 20,
     "metadata": {},
     "output_type": "execute_result"
    }
   ],
   "source": [
    "type(a)"
   ]
  },
  {
   "cell_type": "code",
   "execution_count": 31,
   "id": "343cd378",
   "metadata": {},
   "outputs": [],
   "source": [
    "import datetime"
   ]
  },
  {
   "cell_type": "code",
   "execution_count": 32,
   "id": "e163490c",
   "metadata": {},
   "outputs": [],
   "source": [
    "a = datetime.datetime.now()"
   ]
  },
  {
   "cell_type": "code",
   "execution_count": 26,
   "id": "a509571e",
   "metadata": {},
   "outputs": [
    {
     "data": {
      "text/plain": [
       "datetime.datetime"
      ]
     },
     "execution_count": 26,
     "metadata": {},
     "output_type": "execute_result"
    }
   ],
   "source": [
    "type(a)"
   ]
  },
  {
   "cell_type": "code",
   "execution_count": 25,
   "id": "45481dff",
   "metadata": {},
   "outputs": [
    {
     "data": {
      "text/plain": [
       "datetime.datetime(2023, 4, 17, 6, 23, 33, 66233)"
      ]
     },
     "execution_count": 25,
     "metadata": {},
     "output_type": "execute_result"
    }
   ],
   "source": [
    "a"
   ]
  },
  {
   "cell_type": "code",
   "execution_count": null,
   "id": "3db7dc89",
   "metadata": {},
   "outputs": [],
   "source": [
    "int -- > \n",
    "float\n",
    "str \n",
    "bool --True /False\n",
    "complex --real_img j\n",
    "None --> empty type"
   ]
  },
  {
   "cell_type": "code",
   "execution_count": null,
   "id": "1a5f9a60",
   "metadata": {},
   "outputs": [],
   "source": [
    "Data Structure:\n",
    "    raw data arranged in perticular format\n",
    "    \n",
    "    it is collection of diffrent data type\n",
    "    \n",
    "    list\n",
    "    tuple\n",
    "    set\n",
    "    dict\n",
    "    str\n",
    "    frozenset\n",
    "    Note : no array data structure in Python"
   ]
  },
  {
   "cell_type": "code",
   "execution_count": null,
   "id": "fe5e1abe",
   "metadata": {},
   "outputs": [],
   "source": [
    "List : -- []\n",
    "    it is collection of data types -- []    \n",
    "    similar -- Homogeneous list\n",
    "    different -- Hetrogeneous\n",
    "    it is mutable type --> insert/delete/upate"
   ]
  },
  {
   "cell_type": "code",
   "execution_count": 33,
   "id": "9be8ce47",
   "metadata": {},
   "outputs": [],
   "source": [
    "age = [34,65,23,53,23,3] # int"
   ]
  },
  {
   "cell_type": "code",
   "execution_count": 34,
   "id": "aebfb723",
   "metadata": {},
   "outputs": [
    {
     "data": {
      "text/plain": [
       "list"
      ]
     },
     "execution_count": 34,
     "metadata": {},
     "output_type": "execute_result"
    }
   ],
   "source": [
    "type(age)"
   ]
  },
  {
   "cell_type": "code",
   "execution_count": 35,
   "id": "854240f5",
   "metadata": {},
   "outputs": [],
   "source": [
    "a = 45"
   ]
  },
  {
   "cell_type": "code",
   "execution_count": 36,
   "id": "e6e7bd12",
   "metadata": {},
   "outputs": [
    {
     "data": {
      "text/plain": [
       "int"
      ]
     },
     "execution_count": 36,
     "metadata": {},
     "output_type": "execute_result"
    }
   ],
   "source": [
    "type(a)"
   ]
  },
  {
   "cell_type": "code",
   "execution_count": 37,
   "id": "9e2ace84",
   "metadata": {},
   "outputs": [],
   "source": [
    "personal_data = ['keshav',25,'keshav@gmail.com',879797979]"
   ]
  },
  {
   "cell_type": "code",
   "execution_count": 38,
   "id": "d0721636",
   "metadata": {},
   "outputs": [
    {
     "data": {
      "text/plain": [
       "['keshav', 25, 'keshav@gmail.com', 879797979]"
      ]
     },
     "execution_count": 38,
     "metadata": {},
     "output_type": "execute_result"
    }
   ],
   "source": [
    "personal_data"
   ]
  },
  {
   "cell_type": "code",
   "execution_count": 39,
   "id": "95fc4947",
   "metadata": {},
   "outputs": [
    {
     "data": {
      "text/plain": [
       "list"
      ]
     },
     "execution_count": 39,
     "metadata": {},
     "output_type": "execute_result"
    }
   ],
   "source": [
    "type(personal_data)"
   ]
  },
  {
   "cell_type": "code",
   "execution_count": null,
   "id": "d3869d30",
   "metadata": {},
   "outputs": [],
   "source": [
    "data structure:\n",
    "    changes --> insert/delete/update\n",
    "    \n",
    "    mutable type --> change its structure\n",
    "    list\n",
    "    set\n",
    "    dict \n",
    "            \n",
    "    immutable :\n",
    "        we cannt change its structure\n",
    "        \n",
    "        tuple\n",
    "        str\n",
    "        frozenset"
   ]
  },
  {
   "cell_type": "code",
   "execution_count": 40,
   "id": "5801091e",
   "metadata": {},
   "outputs": [
    {
     "data": {
      "text/plain": [
       "['keshav', 25, 'keshav@gmail.com', 879797979]"
      ]
     },
     "execution_count": 40,
     "metadata": {},
     "output_type": "execute_result"
    }
   ],
   "source": [
    "personal_data"
   ]
  },
  {
   "cell_type": "code",
   "execution_count": null,
   "id": "661238f9",
   "metadata": {},
   "outputs": [],
   "source": [
    "emp_id --> int --> str"
   ]
  },
  {
   "cell_type": "code",
   "execution_count": 42,
   "id": "e956f2df",
   "metadata": {},
   "outputs": [],
   "source": [
    "emp_id = 'ES1234'"
   ]
  },
  {
   "cell_type": "code",
   "execution_count": null,
   "id": "dfd07553",
   "metadata": {},
   "outputs": [],
   "source": [
    "Operation : \n",
    "    list  --> mutable type insertion/deletion/updation"
   ]
  },
  {
   "cell_type": "code",
   "execution_count": null,
   "id": "aa8d80a3",
   "metadata": {},
   "outputs": [],
   "source": [
    "insertion:\n",
    "    1.insert(index,element) : insert single element at given location\n",
    "    2.append(element) : add single element at the end\n",
    "    3.extend([group of elements])"
   ]
  },
  {
   "cell_type": "code",
   "execution_count": 43,
   "id": "784eebf1",
   "metadata": {},
   "outputs": [],
   "source": [
    "emp_id = [24,6,4234,6454,2,54,64]"
   ]
  },
  {
   "cell_type": "code",
   "execution_count": null,
   "id": "899cfad1",
   "metadata": {},
   "outputs": [],
   "source": [
    "index number:\n",
    "    forward index -- positive --> start --- 0\n",
    "    reverse index --neagtive --> start -- -1"
   ]
  },
  {
   "cell_type": "code",
   "execution_count": 44,
   "id": "a94f2283",
   "metadata": {},
   "outputs": [
    {
     "data": {
      "text/plain": [
       "[24, 6, 4234, 6454, 2, 54, 64]"
      ]
     },
     "execution_count": 44,
     "metadata": {},
     "output_type": "execute_result"
    }
   ],
   "source": [
    "emp_id"
   ]
  },
  {
   "cell_type": "code",
   "execution_count": 45,
   "id": "d9f9e3d5",
   "metadata": {},
   "outputs": [
    {
     "data": {
      "text/plain": [
       "6454"
      ]
     },
     "execution_count": 45,
     "metadata": {},
     "output_type": "execute_result"
    }
   ],
   "source": [
    "emp_id[3]"
   ]
  },
  {
   "cell_type": "code",
   "execution_count": 46,
   "id": "368b1311",
   "metadata": {},
   "outputs": [
    {
     "data": {
      "text/plain": [
       "6454"
      ]
     },
     "execution_count": 46,
     "metadata": {},
     "output_type": "execute_result"
    }
   ],
   "source": [
    "emp_id[-4]"
   ]
  },
  {
   "cell_type": "code",
   "execution_count": 52,
   "id": "c091717f",
   "metadata": {},
   "outputs": [],
   "source": [
    "courses= ['python','java','ML','DS','DS','DevOps','DS']"
   ]
  },
  {
   "cell_type": "code",
   "execution_count": 53,
   "id": "f1a2e0ec",
   "metadata": {},
   "outputs": [
    {
     "data": {
      "text/plain": [
       "['python', 'java', 'ML', 'DS', 'DS', 'DevOps', 'DS']"
      ]
     },
     "execution_count": 53,
     "metadata": {},
     "output_type": "execute_result"
    }
   ],
   "source": [
    "courses"
   ]
  },
  {
   "cell_type": "code",
   "execution_count": 49,
   "id": "b80943dd",
   "metadata": {},
   "outputs": [
    {
     "data": {
      "text/plain": [
       "'ML'"
      ]
     },
     "execution_count": 49,
     "metadata": {},
     "output_type": "execute_result"
    }
   ],
   "source": [
    "courses[2]"
   ]
  },
  {
   "cell_type": "code",
   "execution_count": 51,
   "id": "f9a0d35a",
   "metadata": {},
   "outputs": [
    {
     "data": {
      "text/plain": [
       "4"
      ]
     },
     "execution_count": 51,
     "metadata": {},
     "output_type": "execute_result"
    }
   ],
   "source": [
    "courses.index('DevOps')"
   ]
  },
  {
   "cell_type": "code",
   "execution_count": 58,
   "id": "9d4c80d0",
   "metadata": {},
   "outputs": [
    {
     "data": {
      "text/plain": [
       "[24, 6, 4234, 6454, 2, 54, 64]"
      ]
     },
     "execution_count": 58,
     "metadata": {},
     "output_type": "execute_result"
    }
   ],
   "source": [
    "emp_id"
   ]
  },
  {
   "cell_type": "code",
   "execution_count": null,
   "id": "1289d1f4",
   "metadata": {},
   "outputs": [],
   "source": [
    "insert --> to insert new element at given location/index number"
   ]
  },
  {
   "cell_type": "code",
   "execution_count": 59,
   "id": "d693b66f",
   "metadata": {},
   "outputs": [
    {
     "data": {
      "text/plain": [
       "[24, 6, 4234, 6454, 2, 54, 64]"
      ]
     },
     "execution_count": 59,
     "metadata": {},
     "output_type": "execute_result"
    }
   ],
   "source": [
    "emp_id"
   ]
  },
  {
   "cell_type": "code",
   "execution_count": 60,
   "id": "c916fcbd",
   "metadata": {},
   "outputs": [],
   "source": [
    "emp_id.insert(2,101)"
   ]
  },
  {
   "cell_type": "code",
   "execution_count": 61,
   "id": "a832d4b7",
   "metadata": {},
   "outputs": [
    {
     "data": {
      "text/plain": [
       "[24, 6, 101, 4234, 6454, 2, 54, 64]"
      ]
     },
     "execution_count": 61,
     "metadata": {},
     "output_type": "execute_result"
    }
   ],
   "source": [
    "emp_id"
   ]
  },
  {
   "cell_type": "code",
   "execution_count": null,
   "id": "a9ea2b46",
   "metadata": {},
   "outputs": [],
   "source": [
    "insert(index,element)"
   ]
  },
  {
   "cell_type": "code",
   "execution_count": 62,
   "id": "ae11070e",
   "metadata": {},
   "outputs": [],
   "source": [
    "co = ['python','java','aws','ml','ds']"
   ]
  },
  {
   "cell_type": "code",
   "execution_count": 63,
   "id": "c3cc8b44",
   "metadata": {},
   "outputs": [],
   "source": [
    "co.insert(1,'deep learning')"
   ]
  },
  {
   "cell_type": "code",
   "execution_count": 64,
   "id": "a40ce517",
   "metadata": {},
   "outputs": [
    {
     "data": {
      "text/plain": [
       "['python', 'deep learning', 'java', 'aws', 'ml', 'ds']"
      ]
     },
     "execution_count": 64,
     "metadata": {},
     "output_type": "execute_result"
    }
   ],
   "source": [
    "co"
   ]
  },
  {
   "cell_type": "code",
   "execution_count": 65,
   "id": "39b271e5",
   "metadata": {},
   "outputs": [],
   "source": [
    "co.insert(4,'Sagemaker')"
   ]
  },
  {
   "cell_type": "code",
   "execution_count": 66,
   "id": "9b6e4c7f",
   "metadata": {},
   "outputs": [
    {
     "data": {
      "text/plain": [
       "['python', 'deep learning', 'java', 'aws', 'Sagemaker', 'ml', 'ds']"
      ]
     },
     "execution_count": 66,
     "metadata": {},
     "output_type": "execute_result"
    }
   ],
   "source": [
    "co"
   ]
  },
  {
   "cell_type": "code",
   "execution_count": 67,
   "id": "44166039",
   "metadata": {},
   "outputs": [],
   "source": [
    "co.insert(-2,'new element')"
   ]
  },
  {
   "cell_type": "code",
   "execution_count": 69,
   "id": "21311e88",
   "metadata": {},
   "outputs": [
    {
     "name": "stdout",
     "output_type": "stream",
     "text": [
      "['python', 'deep learning', 'java', 'aws', 'Sagemaker', 'new element', 'ml', 'ds']\n"
     ]
    }
   ],
   "source": [
    "print(co)"
   ]
  },
  {
   "cell_type": "code",
   "execution_count": 70,
   "id": "b101f918",
   "metadata": {},
   "outputs": [],
   "source": [
    "a = [34,2,64,2354]"
   ]
  },
  {
   "cell_type": "code",
   "execution_count": 71,
   "id": "7b96f543",
   "metadata": {},
   "outputs": [],
   "source": [
    "a.insert(3,500)"
   ]
  },
  {
   "cell_type": "code",
   "execution_count": 72,
   "id": "2d54e276",
   "metadata": {},
   "outputs": [
    {
     "data": {
      "text/plain": [
       "[34, 2, 64, 500, 2354]"
      ]
     },
     "execution_count": 72,
     "metadata": {},
     "output_type": "execute_result"
    }
   ],
   "source": [
    "a"
   ]
  },
  {
   "cell_type": "code",
   "execution_count": null,
   "id": "17f7159a",
   "metadata": {},
   "outputs": [],
   "source": [
    "append --> add at the end"
   ]
  },
  {
   "cell_type": "code",
   "execution_count": 73,
   "id": "86796603",
   "metadata": {},
   "outputs": [],
   "source": [
    "a.append(1000)"
   ]
  },
  {
   "cell_type": "code",
   "execution_count": 74,
   "id": "376a9e85",
   "metadata": {},
   "outputs": [
    {
     "data": {
      "text/plain": [
       "[34, 2, 64, 500, 2354, 1000]"
      ]
     },
     "execution_count": 74,
     "metadata": {},
     "output_type": "execute_result"
    }
   ],
   "source": [
    "a"
   ]
  },
  {
   "cell_type": "code",
   "execution_count": 75,
   "id": "f0345259",
   "metadata": {},
   "outputs": [],
   "source": [
    "a.append(7979)"
   ]
  },
  {
   "cell_type": "code",
   "execution_count": 76,
   "id": "d79ff216",
   "metadata": {},
   "outputs": [
    {
     "data": {
      "text/plain": [
       "[34, 2, 64, 500, 2354, 1000, 7979]"
      ]
     },
     "execution_count": 76,
     "metadata": {},
     "output_type": "execute_result"
    }
   ],
   "source": [
    "a"
   ]
  },
  {
   "cell_type": "code",
   "execution_count": null,
   "id": "1b0b111e",
   "metadata": {},
   "outputs": [],
   "source": [
    "email_id =[]\n",
    "\n",
    "email send -- \n",
    "\n",
    "sent_email = [] --> "
   ]
  },
  {
   "cell_type": "code",
   "execution_count": null,
   "id": "20620b38",
   "metadata": {},
   "outputs": [],
   "source": [
    "status  --> email "
   ]
  },
  {
   "cell_type": "code",
   "execution_count": 77,
   "id": "0abf8c01",
   "metadata": {},
   "outputs": [
    {
     "data": {
      "text/plain": [
       "[34, 2, 64, 500, 2354, 1000, 7979]"
      ]
     },
     "execution_count": 77,
     "metadata": {},
     "output_type": "execute_result"
    }
   ],
   "source": [
    "a"
   ]
  },
  {
   "cell_type": "code",
   "execution_count": 1,
   "id": "12b119a5",
   "metadata": {},
   "outputs": [],
   "source": [
    "a = [34, 2, 64, 500, 2354, 1000, 7979]"
   ]
  },
  {
   "cell_type": "code",
   "execution_count": 2,
   "id": "b3168a4e",
   "metadata": {},
   "outputs": [
    {
     "data": {
      "text/plain": [
       "[34, 2, 64, 500, 2354, 1000, 7979]"
      ]
     },
     "execution_count": 2,
     "metadata": {},
     "output_type": "execute_result"
    }
   ],
   "source": [
    "a"
   ]
  },
  {
   "cell_type": "code",
   "execution_count": null,
   "id": "63c70ba9",
   "metadata": {},
   "outputs": [],
   "source": [
    "ordered --> indexing \n",
    "\n",
    "unordered --> no indexing "
   ]
  },
  {
   "cell_type": "code",
   "execution_count": null,
   "id": "af65d37d",
   "metadata": {},
   "outputs": [],
   "source": []
  },
  {
   "cell_type": "code",
   "execution_count": 3,
   "id": "6e5a273e",
   "metadata": {},
   "outputs": [],
   "source": [
    "s =  {34, 2, 64, 500, 2354, 1000, 7979}"
   ]
  },
  {
   "cell_type": "code",
   "execution_count": 4,
   "id": "0515f3c7",
   "metadata": {},
   "outputs": [
    {
     "data": {
      "text/plain": [
       "{2, 34, 64, 500, 1000, 2354, 7979}"
      ]
     },
     "execution_count": 4,
     "metadata": {},
     "output_type": "execute_result"
    }
   ],
   "source": [
    "s"
   ]
  },
  {
   "cell_type": "code",
   "execution_count": 5,
   "id": "b1b4dd89",
   "metadata": {},
   "outputs": [
    {
     "ename": "TypeError",
     "evalue": "'set' object is not subscriptable",
     "output_type": "error",
     "traceback": [
      "\u001b[1;31m---------------------------------------------------------------------------\u001b[0m",
      "\u001b[1;31mTypeError\u001b[0m                                 Traceback (most recent call last)",
      "Input \u001b[1;32mIn [5]\u001b[0m, in \u001b[0;36m<cell line: 1>\u001b[1;34m()\u001b[0m\n\u001b[1;32m----> 1\u001b[0m \u001b[43ms\u001b[49m\u001b[43m[\u001b[49m\u001b[38;5;241;43m3\u001b[39;49m\u001b[43m]\u001b[49m\n",
      "\u001b[1;31mTypeError\u001b[0m: 'set' object is not subscriptable"
     ]
    }
   ],
   "source": [
    "s[3]"
   ]
  },
  {
   "cell_type": "code",
   "execution_count": null,
   "id": "d200123c",
   "metadata": {},
   "outputs": [],
   "source": [
    "Operation on list:\n",
    "    1.insert(index,element)\n",
    "    2.append(element)\n",
    "    3.extend"
   ]
  },
  {
   "cell_type": "code",
   "execution_count": null,
   "id": "9e4fe8e5",
   "metadata": {},
   "outputs": [],
   "source": [
    "insert : to insert single element at the given location/index"
   ]
  },
  {
   "cell_type": "code",
   "execution_count": 6,
   "id": "cc909e50",
   "metadata": {},
   "outputs": [
    {
     "data": {
      "text/plain": [
       "[34, 2, 64, 500, 2354, 1000, 7979]"
      ]
     },
     "execution_count": 6,
     "metadata": {},
     "output_type": "execute_result"
    }
   ],
   "source": [
    "a"
   ]
  },
  {
   "cell_type": "code",
   "execution_count": 7,
   "id": "00d48696",
   "metadata": {},
   "outputs": [],
   "source": [
    "a.insert(4,'Python')"
   ]
  },
  {
   "cell_type": "code",
   "execution_count": 8,
   "id": "4b0c9751",
   "metadata": {},
   "outputs": [
    {
     "data": {
      "text/plain": [
       "[34, 2, 64, 500, 'Python', 2354, 1000, 7979]"
      ]
     },
     "execution_count": 8,
     "metadata": {},
     "output_type": "execute_result"
    }
   ],
   "source": [
    "a"
   ]
  },
  {
   "cell_type": "code",
   "execution_count": null,
   "id": "738078d3",
   "metadata": {},
   "outputs": [],
   "source": [
    "append(element)"
   ]
  },
  {
   "cell_type": "code",
   "execution_count": 9,
   "id": "87ac807b",
   "metadata": {},
   "outputs": [],
   "source": [
    "a.append(79494)"
   ]
  },
  {
   "cell_type": "code",
   "execution_count": 10,
   "id": "cf1f8f28",
   "metadata": {},
   "outputs": [
    {
     "data": {
      "text/plain": [
       "[34, 2, 64, 500, 'Python', 2354, 1000, 7979, 79494]"
      ]
     },
     "execution_count": 10,
     "metadata": {},
     "output_type": "execute_result"
    }
   ],
   "source": [
    "a"
   ]
  },
  {
   "cell_type": "code",
   "execution_count": null,
   "id": "6fbd9ebb",
   "metadata": {},
   "outputs": [],
   "source": [
    "insert\n",
    "append "
   ]
  },
  {
   "cell_type": "code",
   "execution_count": null,
   "id": "484f6d71",
   "metadata": {},
   "outputs": [],
   "source": [
    "Multiple elements\n",
    "\n",
    "extends([elements]) "
   ]
  },
  {
   "cell_type": "code",
   "execution_count": 12,
   "id": "58b3ee2f",
   "metadata": {},
   "outputs": [],
   "source": [
    "a.extend([1,2,3,4,5])"
   ]
  },
  {
   "cell_type": "code",
   "execution_count": 13,
   "id": "5ceec1c6",
   "metadata": {},
   "outputs": [
    {
     "data": {
      "text/plain": [
       "[34, 2, 64, 500, 'Python', 2354, 1000, 7979, 79494, 1, 2, 3, 4, 5]"
      ]
     },
     "execution_count": 13,
     "metadata": {},
     "output_type": "execute_result"
    }
   ],
   "source": [
    "a"
   ]
  },
  {
   "cell_type": "code",
   "execution_count": 20,
   "id": "5d13ad60",
   "metadata": {},
   "outputs": [],
   "source": [
    "l1 = [1,2,3]"
   ]
  },
  {
   "cell_type": "code",
   "execution_count": 21,
   "id": "d3a38a09",
   "metadata": {},
   "outputs": [],
   "source": [
    "l2 = [100,200,300]"
   ]
  },
  {
   "cell_type": "code",
   "execution_count": 22,
   "id": "db28d2a2",
   "metadata": {},
   "outputs": [],
   "source": [
    "l1.extend(l2)"
   ]
  },
  {
   "cell_type": "code",
   "execution_count": 23,
   "id": "924acf62",
   "metadata": {},
   "outputs": [
    {
     "data": {
      "text/plain": [
       "[1, 2, 3, 100, 200, 300]"
      ]
     },
     "execution_count": 23,
     "metadata": {},
     "output_type": "execute_result"
    }
   ],
   "source": [
    "l1"
   ]
  },
  {
   "cell_type": "code",
   "execution_count": null,
   "id": "d7c608c4",
   "metadata": {},
   "outputs": [],
   "source": [
    "append vs extend\n",
    "=================\n",
    "append end single value\n",
    "\n",
    "extend \n",
    "\n",
    "multiple value at the end"
   ]
  },
  {
   "cell_type": "code",
   "execution_count": null,
   "id": "2ad21e34",
   "metadata": {},
   "outputs": [],
   "source": []
  },
  {
   "cell_type": "code",
   "execution_count": 26,
   "id": "91736f83",
   "metadata": {},
   "outputs": [
    {
     "data": {
      "text/plain": [
       "[1, 2, 3, 100, 200, 300]"
      ]
     },
     "execution_count": 26,
     "metadata": {},
     "output_type": "execute_result"
    }
   ],
   "source": [
    "l1"
   ]
  },
  {
   "cell_type": "code",
   "execution_count": 27,
   "id": "e4424856",
   "metadata": {},
   "outputs": [],
   "source": [
    "l1.append([78,96,45,656])"
   ]
  },
  {
   "cell_type": "code",
   "execution_count": 28,
   "id": "a89612d7",
   "metadata": {},
   "outputs": [
    {
     "data": {
      "text/plain": [
       "[1, 2, 3, 100, 200, 300, [78, 96, 45, 656]]"
      ]
     },
     "execution_count": 28,
     "metadata": {},
     "output_type": "execute_result"
    }
   ],
   "source": [
    "l1"
   ]
  },
  {
   "cell_type": "code",
   "execution_count": 31,
   "id": "ee389951",
   "metadata": {},
   "outputs": [
    {
     "data": {
      "text/plain": [
       "96"
      ]
     },
     "execution_count": 31,
     "metadata": {},
     "output_type": "execute_result"
    }
   ],
   "source": [
    "l1[6][1]"
   ]
  },
  {
   "cell_type": "code",
   "execution_count": 32,
   "id": "da4a9632",
   "metadata": {},
   "outputs": [],
   "source": [
    "l2 = [1,[2,3,4,5,[100,200,300,[346,6565],[4545,7667,[452]]]]]"
   ]
  },
  {
   "cell_type": "code",
   "execution_count": 33,
   "id": "415e1e56",
   "metadata": {},
   "outputs": [
    {
     "data": {
      "text/plain": [
       "[1, [2, 3, 4, 5, [100, 200, 300, [346, 6565], [4545, 7667, [452]]]]]"
      ]
     },
     "execution_count": 33,
     "metadata": {},
     "output_type": "execute_result"
    }
   ],
   "source": [
    "l2"
   ]
  },
  {
   "cell_type": "code",
   "execution_count": 40,
   "id": "c2ef9185",
   "metadata": {},
   "outputs": [
    {
     "data": {
      "text/plain": [
       "452"
      ]
     },
     "execution_count": 40,
     "metadata": {},
     "output_type": "execute_result"
    }
   ],
   "source": [
    "l2[1][4][4][2][0]"
   ]
  },
  {
   "cell_type": "code",
   "execution_count": 41,
   "id": "059d8ed8",
   "metadata": {},
   "outputs": [],
   "source": [
    "data  = {  \n",
    "   \"Records\":[  \n",
    "      {  \n",
    "         \"eventVersion\":\"2.2\",\n",
    "         \"eventSource\":\"aws:s3\",\n",
    "         \"awsRegion\":\"us-west-2\",\n",
    "         \"eventTime\":\"The time, in ISO-8601 format, for example, 1970-01-01T00:00:00.000Z, when Amazon S3 finished processing the request\",\n",
    "         \"eventName\":\"event-type\",\n",
    "         \"userIdentity\":{  \n",
    "            \"principalId\":\"Amazon-customer-ID-of-the-user-who-caused-the-event\"\n",
    "         },\n",
    "         \"requestParameters\":{  \n",
    "            \"sourceIPAddress\":\"ip-address-where-request-came-from\"\n",
    "         },\n",
    "         \"responseElements\":{  \n",
    "            \"x-amz-request-id\":\"Amazon S3 generated request ID\",\n",
    "            \"x-amz-id-2\":\"Amazon S3 host that processed the request\"\n",
    "         },\n",
    "         \"s3\":{  \n",
    "            \"s3SchemaVersion\":\"1.0\",\n",
    "            \"configurationId\":\"ID found in the bucket notification configuration\",\n",
    "            \"bucket\":{  \n",
    "               \"name\":\"bucket-name\",\n",
    "               \"ownerIdentity\":{  \n",
    "                  \"principalId\":\"Amazon-customer-ID-of-the-bucket-owner\"\n",
    "               },\n",
    "               \"arn\":\"bucket-ARN\"\n",
    "            },\n",
    "            \"object\":{  \n",
    "               \"key\":\"object-key\",\n",
    "               \"size\":\"object-size in bytes\",\n",
    "               \"eTag\":\"object eTag\",\n",
    "               \"versionId\":\"object version if bucket is versioning-enabled, otherwise null\",\n",
    "               \"sequencer\": \"a string representation of a hexadecimal value used to determine event sequence, only used with PUTs and DELETEs\"\n",
    "            }\n",
    "         },\n",
    "         \"glacierEventData\": {\n",
    "            \"restoreEventData\": {\n",
    "               \"lifecycleRestorationExpiryTime\": \"The time, in ISO-8601 format, for example, 1970-01-01T00:00:00.000Z, of Restore Expiry\",\n",
    "               \"lifecycleRestoreStorageClass\": \"Source storage class for restore\"\n",
    "            }\n",
    "         }\n",
    "      }\n",
    "   ]\n",
    "}\n"
   ]
  },
  {
   "cell_type": "code",
   "execution_count": 47,
   "id": "13120fbf",
   "metadata": {},
   "outputs": [
    {
     "data": {
      "text/plain": [
       "'bucket-name'"
      ]
     },
     "execution_count": 47,
     "metadata": {},
     "output_type": "execute_result"
    }
   ],
   "source": [
    "data['Records'][0]['s3']['bucket']['name']"
   ]
  },
  {
   "cell_type": "code",
   "execution_count": null,
   "id": "7c67d382",
   "metadata": {},
   "outputs": [],
   "source": [
    "Deletion on list:\n",
    "=================\n",
    "1.remove\n",
    "2.pop\n",
    "3.clear"
   ]
  },
  {
   "cell_type": "code",
   "execution_count": 48,
   "id": "35bc93c4",
   "metadata": {},
   "outputs": [
    {
     "data": {
      "text/plain": [
       "[1, 2, 3, 100, 200, 300, [78, 96, 45, 656]]"
      ]
     },
     "execution_count": 48,
     "metadata": {},
     "output_type": "execute_result"
    }
   ],
   "source": [
    "l1"
   ]
  },
  {
   "cell_type": "code",
   "execution_count": null,
   "id": "07bcd9ee",
   "metadata": {},
   "outputs": [],
   "source": [
    "#remove --> element name/value"
   ]
  },
  {
   "cell_type": "code",
   "execution_count": 49,
   "id": "bf8d03a6",
   "metadata": {},
   "outputs": [],
   "source": [
    "l1.remove(200)"
   ]
  },
  {
   "cell_type": "code",
   "execution_count": 50,
   "id": "8c0b6cf7",
   "metadata": {},
   "outputs": [
    {
     "data": {
      "text/plain": [
       "[1, 2, 3, 100, 300, [78, 96, 45, 656]]"
      ]
     },
     "execution_count": 50,
     "metadata": {},
     "output_type": "execute_result"
    }
   ],
   "source": [
    "l1"
   ]
  },
  {
   "cell_type": "code",
   "execution_count": 51,
   "id": "212ff14d",
   "metadata": {},
   "outputs": [],
   "source": [
    "p = [1,345,1,1,1,1,53,1,1,1,1,1]"
   ]
  },
  {
   "cell_type": "code",
   "execution_count": 52,
   "id": "dcb9093b",
   "metadata": {},
   "outputs": [],
   "source": [
    "p.remove(1)"
   ]
  },
  {
   "cell_type": "code",
   "execution_count": 53,
   "id": "7cf51b07",
   "metadata": {},
   "outputs": [
    {
     "data": {
      "text/plain": [
       "[345, 1, 1, 1, 1, 53, 1, 1, 1, 1, 1]"
      ]
     },
     "execution_count": 53,
     "metadata": {},
     "output_type": "execute_result"
    }
   ],
   "source": [
    "p"
   ]
  },
  {
   "cell_type": "code",
   "execution_count": null,
   "id": "e52d46e6",
   "metadata": {},
   "outputs": [],
   "source": [
    "single line\n",
    "\n"
   ]
  },
  {
   "cell_type": "code",
   "execution_count": 54,
   "id": "8f601cc9",
   "metadata": {},
   "outputs": [
    {
     "data": {
      "text/plain": [
       "[1, 2, 3, 100, 300, [78, 96, 45, 656]]"
      ]
     },
     "execution_count": 54,
     "metadata": {},
     "output_type": "execute_result"
    }
   ],
   "source": [
    "l1"
   ]
  },
  {
   "cell_type": "code",
   "execution_count": 55,
   "id": "1dd0e4e2",
   "metadata": {},
   "outputs": [],
   "source": [
    "l1.remove(3)"
   ]
  },
  {
   "cell_type": "code",
   "execution_count": 56,
   "id": "5709a46d",
   "metadata": {},
   "outputs": [
    {
     "data": {
      "text/plain": [
       "[1, 2, 100, 300, [78, 96, 45, 656]]"
      ]
     },
     "execution_count": 56,
     "metadata": {},
     "output_type": "execute_result"
    }
   ],
   "source": [
    "l1"
   ]
  },
  {
   "cell_type": "code",
   "execution_count": null,
   "id": "0e3b76f5",
   "metadata": {},
   "outputs": [],
   "source": [
    "pop \n",
    "\n",
    "delete element by using its index number"
   ]
  },
  {
   "cell_type": "code",
   "execution_count": 57,
   "id": "8b229bed",
   "metadata": {},
   "outputs": [
    {
     "data": {
      "text/plain": [
       "[1, 2, 100, 300, [78, 96, 45, 656]]"
      ]
     },
     "execution_count": 57,
     "metadata": {},
     "output_type": "execute_result"
    }
   ],
   "source": [
    "l1"
   ]
  },
  {
   "cell_type": "code",
   "execution_count": 58,
   "id": "3af186ea",
   "metadata": {},
   "outputs": [
    {
     "data": {
      "text/plain": [
       "300"
      ]
     },
     "execution_count": 58,
     "metadata": {},
     "output_type": "execute_result"
    }
   ],
   "source": [
    "l1.pop(3)"
   ]
  },
  {
   "cell_type": "code",
   "execution_count": 59,
   "id": "b7d0cac9",
   "metadata": {},
   "outputs": [
    {
     "data": {
      "text/plain": [
       "[1, 2, 100, [78, 96, 45, 656]]"
      ]
     },
     "execution_count": 59,
     "metadata": {},
     "output_type": "execute_result"
    }
   ],
   "source": [
    "l1"
   ]
  },
  {
   "cell_type": "code",
   "execution_count": 60,
   "id": "3959ddbc",
   "metadata": {},
   "outputs": [
    {
     "data": {
      "text/plain": [
       "[78, 96, 45, 656]"
      ]
     },
     "execution_count": 60,
     "metadata": {},
     "output_type": "execute_result"
    }
   ],
   "source": [
    "l1.pop()"
   ]
  },
  {
   "cell_type": "code",
   "execution_count": 61,
   "id": "59c51944",
   "metadata": {},
   "outputs": [
    {
     "data": {
      "text/plain": [
       "[1, 2, 100]"
      ]
     },
     "execution_count": 61,
     "metadata": {},
     "output_type": "execute_result"
    }
   ],
   "source": [
    "l1"
   ]
  },
  {
   "cell_type": "code",
   "execution_count": 62,
   "id": "74b378ef",
   "metadata": {},
   "outputs": [],
   "source": [
    "py_list = ['c','c++','Java','Python','ML','DS']"
   ]
  },
  {
   "cell_type": "code",
   "execution_count": 63,
   "id": "b0df104c",
   "metadata": {},
   "outputs": [
    {
     "data": {
      "text/plain": [
       "'DS'"
      ]
     },
     "execution_count": 63,
     "metadata": {},
     "output_type": "execute_result"
    }
   ],
   "source": [
    "py_list.pop()"
   ]
  },
  {
   "cell_type": "code",
   "execution_count": 64,
   "id": "1ba1c5b4",
   "metadata": {},
   "outputs": [
    {
     "data": {
      "text/plain": [
       "['c', 'c++', 'Java', 'Python', 'ML']"
      ]
     },
     "execution_count": 64,
     "metadata": {},
     "output_type": "execute_result"
    }
   ],
   "source": [
    "py_list"
   ]
  },
  {
   "cell_type": "code",
   "execution_count": 66,
   "id": "908e1747",
   "metadata": {},
   "outputs": [
    {
     "data": {
      "text/plain": [
       "'ML'"
      ]
     },
     "execution_count": 66,
     "metadata": {},
     "output_type": "execute_result"
    }
   ],
   "source": [
    "py_list.pop()"
   ]
  },
  {
   "cell_type": "code",
   "execution_count": 67,
   "id": "ea805db9",
   "metadata": {},
   "outputs": [
    {
     "data": {
      "text/plain": [
       "['c', 'c++', 'Java', 'Python']"
      ]
     },
     "execution_count": 67,
     "metadata": {},
     "output_type": "execute_result"
    }
   ],
   "source": [
    "py_list"
   ]
  },
  {
   "cell_type": "code",
   "execution_count": null,
   "id": "386df010",
   "metadata": {},
   "outputs": [],
   "source": [
    "remove vs pop\n",
    "\n",
    "remove delete element using value\n",
    "\n",
    "pop \n",
    "\n",
    "delete element using index number\n",
    "\n",
    "if no element specified then it will delelte last element"
   ]
  },
  {
   "cell_type": "code",
   "execution_count": 68,
   "id": "30ebec4a",
   "metadata": {},
   "outputs": [
    {
     "data": {
      "text/plain": [
       "[345, 1, 1, 1, 1, 53, 1, 1, 1, 1, 1]"
      ]
     },
     "execution_count": 68,
     "metadata": {},
     "output_type": "execute_result"
    }
   ],
   "source": [
    "p"
   ]
  },
  {
   "cell_type": "code",
   "execution_count": 73,
   "id": "b8a476fc",
   "metadata": {},
   "outputs": [
    {
     "data": {
      "text/plain": [
       "[345, 1, 1, 1, 1, 53, 1, 1, 1, 1, 1]"
      ]
     },
     "execution_count": 73,
     "metadata": {},
     "output_type": "execute_result"
    }
   ],
   "source": [
    "p"
   ]
  },
  {
   "cell_type": "code",
   "execution_count": 75,
   "id": "3a746d32",
   "metadata": {},
   "outputs": [
    {
     "data": {
      "text/plain": [
       "{345: 1, 1: 9, 53: 1}"
      ]
     },
     "execution_count": 75,
     "metadata": {},
     "output_type": "execute_result"
    }
   ],
   "source": [
    "test"
   ]
  },
  {
   "cell_type": "code",
   "execution_count": null,
   "id": "4936ecc2",
   "metadata": {},
   "outputs": [],
   "source": [
    "basic \n",
    "\n",
    "list\n",
    "insert\n",
    "append\n",
    "extend"
   ]
  },
  {
   "cell_type": "code",
   "execution_count": null,
   "id": "9094def3",
   "metadata": {},
   "outputs": [],
   "source": [
    "remove\n",
    "pop\n",
    "clear"
   ]
  },
  {
   "cell_type": "code",
   "execution_count": 79,
   "id": "9cc047a3",
   "metadata": {},
   "outputs": [
    {
     "data": {
      "text/plain": [
       "[345, 1, 1, 1, 1, 53, 1, 1, 1, 1, 1]"
      ]
     },
     "execution_count": 79,
     "metadata": {},
     "output_type": "execute_result"
    }
   ],
   "source": [
    "p"
   ]
  },
  {
   "cell_type": "code",
   "execution_count": 80,
   "id": "d8d9e750",
   "metadata": {},
   "outputs": [],
   "source": [
    "p.clear()"
   ]
  },
  {
   "cell_type": "code",
   "execution_count": 81,
   "id": "deb45a9e",
   "metadata": {},
   "outputs": [
    {
     "data": {
      "text/plain": [
       "[]"
      ]
     },
     "execution_count": 81,
     "metadata": {},
     "output_type": "execute_result"
    }
   ],
   "source": [
    "p"
   ]
  },
  {
   "cell_type": "code",
   "execution_count": null,
   "id": "f0d4da8e",
   "metadata": {},
   "outputs": [],
   "source": [
    "remove - single element by using value\n",
    "pop -- single element by using index\n",
    "clear - delete all"
   ]
  },
  {
   "cell_type": "code",
   "execution_count": 83,
   "id": "22f08a24",
   "metadata": {},
   "outputs": [
    {
     "ename": "MemoryError",
     "evalue": "",
     "output_type": "error",
     "traceback": [
      "\u001b[1;31m---------------------------------------------------------------------------\u001b[0m",
      "\u001b[1;31mMemoryError\u001b[0m                               Traceback (most recent call last)",
      "Input \u001b[1;32mIn [83]\u001b[0m, in \u001b[0;36m<cell line: 1>\u001b[1;34m()\u001b[0m\n\u001b[1;32m----> 1\u001b[0m [e \u001b[38;5;28;01mfor\u001b[39;00m e \u001b[38;5;129;01min\u001b[39;00m \u001b[38;5;28mrange\u001b[39m(\u001b[38;5;241m999999999999999999999\u001b[39m)]\n",
      "Input \u001b[1;32mIn [83]\u001b[0m, in \u001b[0;36m<listcomp>\u001b[1;34m(.0)\u001b[0m\n\u001b[1;32m----> 1\u001b[0m [e \u001b[38;5;28;01mfor\u001b[39;00m e \u001b[38;5;129;01min\u001b[39;00m \u001b[38;5;28mrange\u001b[39m(\u001b[38;5;241m999999999999999999999\u001b[39m)]\n",
      "\u001b[1;31mMemoryError\u001b[0m: "
     ]
    }
   ],
   "source": [
    "[e for e in range(999999999999999999999)]"
   ]
  },
  {
   "cell_type": "code",
   "execution_count": null,
   "id": "4b1bc350",
   "metadata": {},
   "outputs": [],
   "source": [
    "General opearation:\n",
    "    index\n",
    "    count"
   ]
  },
  {
   "cell_type": "code",
   "execution_count": 85,
   "id": "c18758bd",
   "metadata": {},
   "outputs": [],
   "source": [
    "p = [23,5,4,123,64,2,46,34,2,64]"
   ]
  },
  {
   "cell_type": "code",
   "execution_count": 86,
   "id": "68f0ccea",
   "metadata": {},
   "outputs": [
    {
     "data": {
      "text/plain": [
       "[23, 5, 4, 123, 64, 2, 46, 34, 2, 64]"
      ]
     },
     "execution_count": 86,
     "metadata": {},
     "output_type": "execute_result"
    }
   ],
   "source": [
    "p"
   ]
  },
  {
   "cell_type": "code",
   "execution_count": 87,
   "id": "2672c1c3",
   "metadata": {},
   "outputs": [
    {
     "data": {
      "text/plain": [
       "3"
      ]
     },
     "execution_count": 87,
     "metadata": {},
     "output_type": "execute_result"
    }
   ],
   "source": [
    "p.index(123)"
   ]
  },
  {
   "cell_type": "code",
   "execution_count": 88,
   "id": "41567a45",
   "metadata": {},
   "outputs": [
    {
     "data": {
      "text/plain": [
       "4"
      ]
     },
     "execution_count": 88,
     "metadata": {},
     "output_type": "execute_result"
    }
   ],
   "source": [
    "p.index(64)"
   ]
  },
  {
   "cell_type": "code",
   "execution_count": null,
   "id": "b1c15911",
   "metadata": {},
   "outputs": [],
   "source": []
  },
  {
   "cell_type": "code",
   "execution_count": 90,
   "id": "6cbf8b49",
   "metadata": {},
   "outputs": [
    {
     "data": {
      "text/plain": [
       "[23, 5, 4, 123, 64, 2, 46, 34, 2, 64]"
      ]
     },
     "execution_count": 90,
     "metadata": {},
     "output_type": "execute_result"
    }
   ],
   "source": [
    "p"
   ]
  },
  {
   "cell_type": "code",
   "execution_count": 91,
   "id": "27fbde9e",
   "metadata": {},
   "outputs": [
    {
     "data": {
      "text/plain": [
       "1"
      ]
     },
     "execution_count": 91,
     "metadata": {},
     "output_type": "execute_result"
    }
   ],
   "source": [
    "p.count(23)"
   ]
  },
  {
   "cell_type": "code",
   "execution_count": 92,
   "id": "7a532c35",
   "metadata": {},
   "outputs": [
    {
     "data": {
      "text/plain": [
       "2"
      ]
     },
     "execution_count": 92,
     "metadata": {},
     "output_type": "execute_result"
    }
   ],
   "source": [
    "p.count(64)"
   ]
  },
  {
   "cell_type": "code",
   "execution_count": 93,
   "id": "d8508a02",
   "metadata": {},
   "outputs": [],
   "source": [
    "p = [2,56,34,23,56,34,5423,3,254,35,23,34,53,4,34,34,34,34,34,34,123,5345]"
   ]
  },
  {
   "cell_type": "code",
   "execution_count": 96,
   "id": "0ba199c1",
   "metadata": {},
   "outputs": [
    {
     "data": {
      "text/plain": [
       "9"
      ]
     },
     "execution_count": 96,
     "metadata": {},
     "output_type": "execute_result"
    }
   ],
   "source": [
    "p.count(34)"
   ]
  },
  {
   "cell_type": "code",
   "execution_count": null,
   "id": "bac695eb",
   "metadata": {},
   "outputs": [],
   "source": [
    "copy\n",
    "reverse\n",
    "sort"
   ]
  },
  {
   "cell_type": "code",
   "execution_count": null,
   "id": "5052a2c0",
   "metadata": {},
   "outputs": [],
   "source": [
    "tuple also"
   ]
  }
 ],
 "metadata": {
  "kernelspec": {
   "display_name": "Python 3 (ipykernel)",
   "language": "python",
   "name": "python3"
  },
  "language_info": {
   "codemirror_mode": {
    "name": "ipython",
    "version": 3
   },
   "file_extension": ".py",
   "mimetype": "text/x-python",
   "name": "python",
   "nbconvert_exporter": "python",
   "pygments_lexer": "ipython3",
   "version": "3.9.12"
  }
 },
 "nbformat": 4,
 "nbformat_minor": 5
}
