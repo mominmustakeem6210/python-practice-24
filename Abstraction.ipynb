{
 "cells": [
  {
   "cell_type": "code",
   "execution_count": 26,
   "id": "36e7305e",
   "metadata": {},
   "outputs": [],
   "source": [
    "from abc import ABC,abstractmethod\n",
    "class Emp(ABC):\n",
    "    @abstractmethod\n",
    "    def m1(self):pass\n",
    "    @abstractmethod\n",
    "    def m2(self):pass\n",
    "    def m3(self):\n",
    "        print(\"in m3\")\n",
    "    \n",
    "class Empm1Imp(Emp):\n",
    "    def m1(self):\n",
    "        print(\"m1 implemention\")\n",
    "class Empm2Imp(Empm1Imp):\n",
    "    def m2(self):\n",
    "        print(\"in m2 implemention\")\n",
    "    \n",
    "    "
   ]
  },
  {
   "cell_type": "code",
   "execution_count": 27,
   "id": "68dcaa65",
   "metadata": {},
   "outputs": [],
   "source": [
    "obj = Empm2Imp()"
   ]
  },
  {
   "cell_type": "code",
   "execution_count": null,
   "id": "5f2f973f",
   "metadata": {},
   "outputs": [],
   "source": [
    "documentation\n",
    "\n"
   ]
  },
  {
   "cell_type": "code",
   "execution_count": null,
   "id": "420ddbef",
   "metadata": {},
   "outputs": [],
   "source": []
  }
 ],
 "metadata": {
  "kernelspec": {
   "display_name": "Python 3 (ipykernel)",
   "language": "python",
   "name": "python3"
  },
  "language_info": {
   "codemirror_mode": {
    "name": "ipython",
    "version": 3
   },
   "file_extension": ".py",
   "mimetype": "text/x-python",
   "name": "python",
   "nbconvert_exporter": "python",
   "pygments_lexer": "ipython3",
   "version": "3.9.12"
  }
 },
 "nbformat": 4,
 "nbformat_minor": 5
}
